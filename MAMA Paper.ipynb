{
 "cells": [
  {
   "cell_type": "markdown",
   "metadata": {},
   "source": [
    "# Analisis de incertidumbre\n",
    "\n",
    "Notebook para analizar algoritmos cuando se tiene incertidumbre en el tiempo de partida.\n",
    "\n",
    "En primer lugar definimos el algoritmo a estudiar (por ahora EDF o LLF)"
   ]
  },
  {
   "cell_type": "code",
   "execution_count": 57,
   "metadata": {},
   "outputs": [],
   "source": [
    "Algorithm = \"EDF\";"
   ]
  },
  {
   "cell_type": "code",
   "execution_count": 58,
   "metadata": {},
   "outputs": [],
   "source": [
    "#using Pkg;Pkg.instantiate()\n",
    "#import Pkg; Pkg.add(\"KernelEstimator\")\n",
    "using EVQueues, Plots, Distributions, DataFrames, LaTeXStrings, KernelEstimator"
   ]
  },
  {
   "cell_type": "markdown",
   "metadata": {},
   "source": [
    "Se definen los parámetros para realizar las simulaciones"
   ]
  },
  {
   "cell_type": "code",
   "execution_count": 59,
   "metadata": {},
   "outputs": [],
   "source": [
    "#Incertidumbre (se modela como una Uniforme)\n",
    "theta=1\n",
    "\n",
    "#Parámetros del resto de la simulación\n",
    "lambda=30.0;\n",
    "mu=0.5;\n",
    "gamma=0.25;\n",
    "C=40.0;\n",
    "Tfinal=200.0;"
   ]
  },
  {
   "cell_type": "code",
   "execution_count": 60,
   "metadata": {},
   "outputs": [
    {
     "data": {
      "text/plain": [
       "threshold (generic function with 1 method)"
      ]
     },
     "execution_count": 60,
     "metadata": {},
     "output_type": "execute_result"
    }
   ],
   "source": [
    "function threshold(theta,lambda,mu,C)\n",
    "    rho = lambda/mu\n",
    "    return -1/mu*log( mu*theta*(1-C/rho)/sinh(mu*theta))\n",
    "end"
   ]
  },
  {
   "cell_type": "markdown",
   "metadata": {},
   "source": [
    "El siguiente cuadro analiza resultados de vehiculos individualmente"
   ]
  },
  {
   "cell_type": "code",
   "execution_count": 61,
   "metadata": {},
   "outputs": [],
   "source": [
    "df = generate_Poisson_stream(lambda,mu,gamma,Tfinal);\n",
    "\n",
    "#Se corre el algoritmo \"base\", esto es, considerando los deadlines reales\n",
    "if Algorithm == \"EDF\"\n",
    "    alg = ev_edf_trace(df,C);\n",
    "    compute_statistics!(alg);\n",
    "end\n",
    "\n",
    "if Algorithm == \"LLF\"\n",
    "    alg = ev_llf_trace(df,C);\n",
    "    compute_statistics!(alg);\n",
    "end\n",
    "\n",
    "#Se perturban las salidas, y se simula considerandola como la salida reportada\n",
    "df2 = deepcopy(df)\n",
    "df2[!,:salidaReportada] = df2[!,:salidas] + rand(Uniform(-theta,theta),nrow(df2))\n",
    "\n",
    "if Algorithm == \"EDF\"\n",
    "    alg_uncertain = ev_edf_trace(df2,C);\n",
    "    compute_statistics!(alg_uncertain);\n",
    "end\n",
    "    \n",
    "if Algorithm == \"LLF\"\n",
    "    alg_uncertain = ev_llf_trace(df2,C);\n",
    "    compute_statistics!(alg_uncertain);\n",
    "end\n",
    "\n",
    "alg_evs = sort(alg.EVs,by=ev->ev.arrivalTime)\n",
    "alg_uncertain_evs = sort(alg_uncertain.EVs,by=ev->ev.arrivalTime)\n",
    "\n",
    "#para recortar el transitorio\n",
    "n=Int(Tfinal*lambda/10);\n",
    "alg_evs = alg_evs[n:end-n]\n",
    "alg_uncertain_evs = alg_uncertain_evs[n:end-n]\n",
    "\n",
    "#Guardo resultados de vehiculos\n",
    "S_alg = [ev.requestedEnergy for ev in alg_evs];\n",
    "S_alg_uncertain = [ev.requestedEnergy for ev in alg_uncertain_evs];\n",
    "\n",
    "Sr_alg = [ev.departureWorkload for ev in alg_evs];\n",
    "Sr_alg_uncertain = [ev.departureWorkload for ev in alg_uncertain_evs];\n",
    "\n",
    "Sa_alg = S_alg - Sr_alg\n",
    "Sa_alg_uncertain = S_alg_uncertain - Sr_alg_uncertain;"
   ]
  },
  {
   "cell_type": "code",
   "execution_count": 62,
   "metadata": {},
   "outputs": [],
   "source": [
    "u=(-0.9*theta:0.01:0.9*theta)\n",
    "\n",
    "alg_departure = [ev.reportedDepartureTime for ev in alg_evs];\n",
    "alg_uncertain_departure = [ev.reportedDepartureTime for ev in alg_uncertain_evs];\n",
    "diff_departure=alg_uncertain_departure - alg_departure;\n",
    "\n",
    "tau = threshold(theta,lambda,mu,C)\n",
    "\n",
    "Sa2_teo = (1.0 .-exp.(-mu*max.(-u.+tau,0)))/mu\n",
    "Sa_teo = C/lambda\n",
    "\n",
    "Sa_hat = localconstant(diff_departure, Sa_alg_uncertain - Sa_alg, xeval=u);\n",
    "\n",
    "scatter(diff_departure,Sa_alg_uncertain-Sa_alg,alpha=0.5, label=\"Individual EVs\", ms=2, ylims=(-.5,.5))\n",
    "plot!(u,Sa_hat,lw=2, label=\"Nadaraya-Watson Estimation\", ylims=(-.5,.5))\n",
    "plot!(u,Sa2_teo.-Sa_teo,lw=2, label=\"Theory\", xlabel=L\"U = T '-T\", ylabel=L\"E[S_a - S_a^0 \\mid U]\")\n",
    "savefig(\"MAMA1.pdf\")"
   ]
  },
  {
   "cell_type": "markdown",
   "metadata": {},
   "source": [
    "Analisis con curtail"
   ]
  },
  {
   "cell_type": "code",
   "execution_count": 80,
   "metadata": {},
   "outputs": [],
   "source": [
    "df = generate_Poisson_stream(lambda,mu,gamma,Tfinal);\n",
    "\n",
    "#Se corre el algoritmo \"base\", esto es, considerando los deadlines reales\n",
    "if Algorithm == \"EDF\"\n",
    "    alg = ev_edfc_trace(df,C);\n",
    "    compute_statistics!(alg);\n",
    "end\n",
    "\n",
    "if Algorithm == \"LLF\"\n",
    "    alg = ev_llf_trace(df,C);\n",
    "    compute_statistics!(alg);\n",
    "end\n",
    "\n",
    "#Se perturban las salidas, y se simula considerandola como la salida reportada\n",
    "df2 = deepcopy(df)\n",
    "df2[!,:salidaReportada] = df2[!,:salidas] + rand(Uniform(-theta,theta),nrow(df2))\n",
    "\n",
    "if Algorithm == \"EDF\"\n",
    "    alg_uncertain = ev_edfc_trace(df2,C);\n",
    "    compute_statistics!(alg_uncertain);\n",
    "end\n",
    "    \n",
    "if Algorithm == \"LLF\"\n",
    "    alg_uncertain = ev_llf_trace(df2,C);\n",
    "    compute_statistics!(alg_uncertain);\n",
    "end\n",
    "\n",
    "alg_evs = sort(alg.EVs,by=ev->ev.arrivalTime)\n",
    "alg_uncertain_evs = sort(alg_uncertain.EVs,by=ev->ev.arrivalTime)\n",
    "\n",
    "#para recortar el transitorio\n",
    "n=Int(Tfinal*lambda/10);\n",
    "alg_evs = alg_evs[n:end-n]\n",
    "alg_uncertain_evs = alg_uncertain_evs[n:end-n]\n",
    "\n",
    "#Guardo resultados de vehiculos\n",
    "S_alg = [ev.requestedEnergy for ev in alg_evs];\n",
    "S_alg_uncertain = [ev.requestedEnergy for ev in alg_uncertain_evs];\n",
    "\n",
    "Sr_alg = [ev.departureWorkload for ev in alg_evs];\n",
    "Sr_alg_uncertain = [ev.departureWorkload for ev in alg_uncertain_evs];\n",
    "\n",
    "Sa_alg = S_alg - Sr_alg\n",
    "Sa_alg_uncertain = S_alg_uncertain - Sr_alg_uncertain;"
   ]
  },
  {
   "cell_type": "code",
   "execution_count": 81,
   "metadata": {},
   "outputs": [
    {
     "data": {
      "text/plain": [
       "threshold2 (generic function with 1 method)"
      ]
     },
     "execution_count": 81,
     "metadata": {},
     "output_type": "execute_result"
    }
   ],
   "source": [
    "function threshold2(theta,lambda,mu,C)\n",
    "    rho = lambda/mu\n",
    "    ktheta = (1/2 + (exp(mu*theta)-1)/(2*mu*theta))\n",
    "    return -1/mu*log( (1-C/rho)/ktheta)\n",
    "end"
   ]
  },
  {
   "cell_type": "code",
   "execution_count": 82,
   "metadata": {},
   "outputs": [],
   "source": [
    "u=(-0.9*theta:0.01:0.9*theta)\n",
    "\n",
    "alg_departure = [ev.reportedDepartureTime for ev in alg_evs];\n",
    "alg_uncertain_departure = [ev.reportedDepartureTime for ev in alg_uncertain_evs];\n",
    "diff_departure=alg_uncertain_departure - alg_departure;\n",
    "\n",
    "\n",
    "tau2 = threshold2(theta,lambda,mu,C)\n",
    "Sa3_teo = (1.0 .-exp.(-mu*max.(-u.*(u.>0).+tau2,0)))/mu\n",
    "Sa_teo = C/lambda\n",
    "\n",
    "Sa_hat = localconstant(diff_departure, Sa_alg_uncertain - Sa_alg, xeval=u);\n",
    "\n",
    "scatter(diff_departure,Sa_alg_uncertain-Sa_alg,alpha=0.5, label=\"Individual EVs\", ms=2, ylims=(-.5,.5))\n",
    "plot!(u,Sa_hat,lw=2, label=\"Nadaraya-Watson\", ylims=(-.5,.5))\n",
    "plot!(u,Sa3_teo.-Sa_teo,lw=2, label=\"Predicted mean gain\", xlabel=L\"U = T '-T\", ylabel=L\"E[S_a - S_a^0 \\mid U]\")\n",
    "savefig(\"MAMA2.pdf\")"
   ]
  }
 ],
 "metadata": {
  "@webio": {
   "lastCommId": null,
   "lastKernelId": null
  },
  "kernelspec": {
   "display_name": "Julia 1.6.1",
   "language": "julia",
   "name": "julia-1.6"
  },
  "language_info": {
   "file_extension": ".jl",
   "mimetype": "application/julia",
   "name": "julia",
   "version": "1.6.1"
  }
 },
 "nbformat": 4,
 "nbformat_minor": 4
}
