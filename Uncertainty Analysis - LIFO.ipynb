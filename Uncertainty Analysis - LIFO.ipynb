{
 "cells": [
  {
   "cell_type": "markdown",
   "metadata": {},
   "source": [
    "# Analisis de incertidumbre\n",
    "\n",
    "Notebook para analizar algoritmos cuando se tiene incertidumbre en el tiempo de partida.\n",
    "\n",
    "En primer lugar definimos el algoritmo a estudiar (por ahora EDF o LLF)"
   ]
  },
  {
   "cell_type": "code",
   "execution_count": 1,
   "metadata": {},
   "outputs": [],
   "source": [
    "Algorithm = \"EDF\";"
   ]
  },
  {
   "cell_type": "code",
   "execution_count": 2,
   "metadata": {},
   "outputs": [],
   "source": [
    "#using Pkg;Pkg.instantiate()\n",
    "#import Pkg; Pkg.add(\"Distributions\")\n",
    "using EVQueues, Plots, Distributions"
   ]
  },
  {
   "cell_type": "markdown",
   "metadata": {},
   "source": [
    "Se definen los parámetros para realizar las simulaciones"
   ]
  },
  {
   "cell_type": "code",
   "execution_count": 3,
   "metadata": {},
   "outputs": [],
   "source": [
    "#Desviación standard de la incertidumbre (se modela como una Gaussiana)\n",
    "sigma=0.2\n",
    "\n",
    "#Parámetros del resto de la simulación\n",
    "lambda=60.0;\n",
    "mu=1;\n",
    "gamma=1;\n",
    "C=40.0;\n",
    "Tfinal=100.0;\n",
    "\n",
    "#Se agrega snaps para hacer animaciones\n",
    "snaps = collect(0.1:.5:100.0);"
   ]
  },
  {
   "cell_type": "markdown",
   "metadata": {},
   "source": [
    "El próximo cuadro compara el desempeño promedio"
   ]
  },
  {
   "cell_type": "markdown",
   "metadata": {},
   "source": [
    "El siguiente cuadro analiza resultados de vehiculos individualmente"
   ]
  },
  {
   "cell_type": "code",
   "execution_count": 4,
   "metadata": {},
   "outputs": [
    {
     "name": "stderr",
     "output_type": "stream",
     "text": [
      "\u001b[32mSimulando... 100%|██████████████████████████████████████| Time: 0:00:01\u001b[39m\n",
      "\u001b[32mSimulando... 100%|██████████████████████████████████████| Time: 0:00:00\u001b[39m\n"
     ]
    },
    {
     "data": {
      "text/plain": [
       "4844-element Array{Float64,1}:\n",
       " 1.0917325651301897\n",
       " 0.47767857190565394\n",
       " 0.16018805597668143\n",
       " 0.40483521560553487\n",
       " 0.3060404993859207\n",
       " 0.16294009252165775\n",
       " 0.97154369596989\n",
       " 0.764211501389121\n",
       " 0.0045847645312409365\n",
       " 0.8324821670234042\n",
       " 0.9242365726283406\n",
       " 0.9699641024463106\n",
       " 0.11492104300698443\n",
       " ⋮\n",
       " 0.5695743544401535\n",
       " 1.4614480892988282\n",
       " 0.10260512893691463\n",
       " 0.6950100561853106\n",
       " 0.09846266855076795\n",
       " 0.5704036419251336\n",
       " 1.369814852502318\n",
       " 0.6990142364560562\n",
       " 0.34851420795395177\n",
       " 1.3477106098455032\n",
       " 0.33079624667541885\n",
       " 0.04844508167212389"
      ]
     },
     "execution_count": 4,
     "metadata": {},
     "output_type": "execute_result"
    }
   ],
   "source": [
    "df = generate_Poisson_stream(lambda,mu,gamma,Tfinal);\n",
    "\n",
    "#Se corre el algoritmo \"base\", esto es, considerando los deadlines reales\n",
    "if Algorithm == \"EDF\"\n",
    "    alg = ev_edfc_trace(df,C,snapshots=snaps);\n",
    "    compute_statistics!(alg);\n",
    "end\n",
    "\n",
    "if Algorithm == \"LLF\"\n",
    "    alg = ev_llf_trace(df,C,snapshots=snaps);\n",
    "    compute_statistics!(alg);\n",
    "end\n",
    "\n",
    "#Se perturban las salidas, y se simula considerandola como la salida reportada\n",
    "perturbation = Normal(0,sigma)\n",
    "reportedDeadlines = [d+rand(perturbation) for d in df[!,:salidas]]\n",
    "df[!,:salidaReportada] = reportedDeadlines\n",
    "\n",
    "lifo = ev_lifo_trace(df,C);\n",
    "compute_statistics!(lifo);\n",
    "lifo_evs = sort(lifo.EVs,by=ev->ev.arrivalTime)\n",
    "\n",
    "if Algorithm == \"EDF\"\n",
    "    alg_uncertain = ev_edfc_trace(df,C,snapshots=snaps);\n",
    "    compute_statistics!(alg_uncertain);\n",
    "end\n",
    "    \n",
    "if Algorithm == \"LLF\"\n",
    "    alg_uncertain = ev_llf_trace(df,C,snapshots=snaps);\n",
    "    compute_statistics!(alg_uncertain);\n",
    "end\n",
    "\n",
    "alg_evs = sort(alg.EVs,by=ev->ev.arrivalTime)\n",
    "alg_uncertain_evs = sort(alg_uncertain.EVs,by=ev->ev.arrivalTime)\n",
    "\n",
    "#para recortar el transitorio\n",
    "n=Int(Tfinal*lambda/10);\n",
    "alg_evs = alg_evs[n:end-n]\n",
    "alg_uncertain_evs = alg_uncertain_evs[n:end-n]\n",
    "lifo_evs = lifo_evs[n:end-n]\n",
    "\n",
    "#Guardo resultados de vehiculos\n",
    "S_alg = [ev.requestedEnergy for ev in alg_evs];\n",
    "S_alg_uncertain = [ev.requestedEnergy for ev in alg_uncertain_evs];\n",
    "S_lifo = [ev.requestedEnergy for ev in lifo_evs];\n",
    "\n",
    "Sr_alg = [ev.departureWorkload for ev in alg_evs];\n",
    "Sr_alg_uncertain = [ev.departureWorkload for ev in alg_uncertain_evs];\n",
    "Sr_lifo = [ev.departureWorkload for ev in lifo_evs];\n",
    "\n",
    "Sa_alg = S_alg - Sr_alg\n",
    "Sa_alg_uncertain = S_alg_uncertain - Sr_alg_uncertain;\n",
    "Sa_lifo = S_lifo - Sr_lifo;"
   ]
  },
  {
   "cell_type": "code",
   "execution_count": 5,
   "metadata": {},
   "outputs": [],
   "source": [
    "full_alg = [ev.departureWorkload==0 for ev in alg_evs];\n",
    "full_alg_uncertain = [ev.departureWorkload==0 for ev in alg_uncertain_evs];\n",
    "full_lifo = [ev.departureWorkload==0 for ev in lifo_evs];\n",
    "\n",
    "a=full_lifo.*full_alg_uncertain\n",
    "b=full_lifo.+full_alg_uncertain\n",
    "both_full = [i>0 for i in a];\n",
    "both_unfull = [i==0 for i in b];\n",
    "\n",
    "p = plot(  xlabel=\"LIFO\",\n",
    "            ylabel=Algorithm * \" Uncertain\",\n",
    "            title=\"Energy Received\", legend=:bottomright)\n",
    "\n",
    "scatter!(p,Sa_lifo[both_unfull.==true],Sa_alg_uncertain[both_unfull.==true],markershape=:circle,markersize=4,color=:blue,label=\"Not full\")\n",
    "scatter!(p,Sa_lifo[full_lifo.==true],Sa_alg_uncertain[full_lifo.==true],markershape=:circle,markersize=4,color=:red,label=\"Full LIFO\")\n",
    "scatter!(p,Sa_lifo[full_alg_uncertain.==true],Sa_alg_uncertain[full_alg_uncertain.==true],markershape=:circle,markersize=4,color=:yellow,label=\"Full Uncertain\")\n",
    "scatter!(p,Sa_lifo[both_full.==true],Sa_alg_uncertain[both_full.==true],markershape=:circle,markersize=4,color=:black,label=\"Both full\")\n",
    "savefig(p,\"Energy Received LIFO vs EDF - Curtail - No Bias.pdf\")"
   ]
  },
  {
   "cell_type": "code",
   "execution_count": 6,
   "metadata": {},
   "outputs": [],
   "source": [
    "alg_departure = [ev.reportedDepartureTime for ev in alg_evs];\n",
    "alg_uncertain_departure = [ev.reportedDepartureTime for ev in alg_uncertain_evs];\n",
    "diff_departure=alg_departure-alg_uncertain_departure;\n",
    "\n",
    "EV_overstayed = [i>0 for i in diff_departure]\n",
    "EV_understayed = [i<0 for i in diff_departure]\n",
    "\n",
    "p = plot(  xlabel=Algorithm,\n",
    "            ylabel=\"LIFO\",\n",
    "            title=\"Energy Received\", legend=:bottomright)\n",
    "\n",
    "scatter!(p,Sa_lifo[both_full.==false],Sa_alg_uncertain[both_full.==false],markershape=:circle,markersize=4,marker_z=(diff_departure[both_full.==false]),colorbar=true,label=false)\n",
    "savefig(p,\"Energy requested vs received EDF - Curtail - No Bias - Markerz.pdf\")"
   ]
  },
  {
   "cell_type": "code",
   "execution_count": 7,
   "metadata": {},
   "outputs": [],
   "source": [
    "diff_Sa=Sa_alg_uncertain-Sa_lifo;\n",
    "alg_departure = [ev.reportedDepartureTime for ev in alg_evs];\n",
    "alg_uncertain_departure = [ev.reportedDepartureTime for ev in alg_uncertain_evs];\n",
    "diff_departure=alg_departure-alg_uncertain_departure;\n",
    "\n",
    "p = plot(  xlabel=\"Difference in real and reported departure\",\n",
    "            ylabel=\"Difference in energy received\",\n",
    "            title=\"Comparison between LIFO and\" * Algorithm, legend=:bottomright)\n",
    "\n",
    "scatter!(p,diff_departure[both_unfull.==true],diff_Sa[both_unfull.==true],markershape=:circle,markersize=4,color=:blue,label=\"Not full\")\n",
    "scatter!(p,diff_departure[full_lifo.==true],diff_Sa[full_lifo.==true],markershape=:circle,markersize=4,color=:red,label=\"Full EDF\")\n",
    "scatter!(p,diff_departure[full_alg_uncertain.==true],diff_Sa[full_alg_uncertain.==true],markershape=:circle,markersize=4,color=:yellow,label=\"Full Uncertain\")\n",
    "scatter!(p,diff_departure[both_full.==true],diff_Sa[both_full.==true],markershape=:circle,markersize=4,color=:black,label=\"Both full\")\n",
    "savefig(p,\"Comparison between LIFO and EDF - Curtail - No Bias.pdf\")"
   ]
  },
  {
   "cell_type": "code",
   "execution_count": 8,
   "metadata": {},
   "outputs": [],
   "source": [
    "s1 = scatter(S_lifo,Sa_lifo,label=\"LIFO\", ylabel=\"Energy received\",markershape=:circle,markersize=4,color=:blue, legend=:bottomright)\n",
    "s2 = scatter(S_alg_uncertain,Sa_alg_uncertain,label=Algorithm* \" Uncertain\",markershape=:circle,markersize=4,color=:red, legend=:bottomright)\n",
    "plot(s1, s2, layout = (2, 1), xlabel=\"Energy requested\", xlims = (0,5))\n",
    "savefig(\"Energy requested vs received - Curtail - No Bias.pdf\")"
   ]
  }
 ],
 "metadata": {
  "kernelspec": {
   "display_name": "Julia 1.5.0",
   "language": "julia",
   "name": "julia-1.5"
  },
  "language_info": {
   "file_extension": ".jl",
   "mimetype": "application/julia",
   "name": "julia",
   "version": "1.5.0"
  }
 },
 "nbformat": 4,
 "nbformat_minor": 4
}
